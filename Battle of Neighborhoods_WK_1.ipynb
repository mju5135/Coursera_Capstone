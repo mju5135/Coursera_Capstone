{
 "cells": [
  {
   "cell_type": "markdown",
   "metadata": {},
   "source": [
    "## IBM Applied Data Science Capstone Project"
   ]
  },
  {
   "cell_type": "markdown",
   "metadata": {},
   "source": [
    "### Opening a New Gym in Austin, TX"
   ]
  },
  {
   "cell_type": "markdown",
   "metadata": {},
   "source": [
    "### Introduction:"
   ]
  },
  {
   "cell_type": "markdown",
   "metadata": {},
   "source": [
    "Located in Central Texas within the greater Texas Hill Country, it is home to numerous lakes, rivers, and waterways. Austin was recently voted the No. 1 place to live in America. It was also named the fastest growing large city in the U.S.A. Austin and its suburb has an estimated population of 2.20 MM. Austin is a hotbed for technology, startups and innovation. A number of Fortune 500 companies have headquarters or regional offices in Austin, including Dell, 3M, Amazon, Apple, Google, IBM, Intel, Oracle, Texas Instruments, and Whole Foods Market.  \n",
    "\n",
    "People in the city are affluent, health conscious and willing to spend high dollar to take care of their wellbeing. That's why I have selected Austin for my project to open a new gymnasium.\n"
   ]
  },
  {
   "cell_type": "markdown",
   "metadata": {},
   "source": [
    "### Business Problem:"
   ]
  },
  {
   "cell_type": "markdown",
   "metadata": {},
   "source": [
    "The objective of this project is to analyze and identify a suitable location in Austin, TX that will have a  good potential to open a new Gym. It is extremely important to choose an appropriate location where there is less or no Gym at all to ensure the success of the new Gym. Using Data Science Methodology and Machine Learning techniques like clustering, we should be able to determine that.\n"
   ]
  },
  {
   "cell_type": "markdown",
   "metadata": {},
   "source": [
    "### Target Audience:"
   ]
  },
  {
   "cell_type": "markdown",
   "metadata": {},
   "source": [
    "Anyone who is looking to open a new Gym in the Austin, TX area is a target audience. Whether a single location for an individual entrepreneur or multiple locations for a big business, it’s a good investment to fulfill the health and well being needs of a modern, health concious population. \n"
   ]
  },
  {
   "cell_type": "markdown",
   "metadata": {},
   "source": [
    "## Data Description:"
   ]
  },
  {
   "cell_type": "markdown",
   "metadata": {},
   "source": [
    "### Data Required"
   ]
  },
  {
   "cell_type": "markdown",
   "metadata": {},
   "source": [
    "1. List of Neighborhoods in Austin, TX. This defines the scope of the project, which is confined to the city of\n",
    "Austin, TX.\n",
    "2. Latitude and the Longitude of the Neighborhoods. This is required to plot the map and get the venues.\n",
    "3. Venue data, specifically related to Gym. This data will be used to perform Clustering of the\n",
    "neighborhoods."
   ]
  },
  {
   "cell_type": "markdown",
   "metadata": {},
   "source": [
    "### Sources and Methods to Extract Data"
   ]
  },
  {
   "cell_type": "markdown",
   "metadata": {},
   "source": [
    "From Wikipedia ('https://en.wikipedia.org/wiki/List_of_Austin_neighborhoods') ) we'll extract and scrape Austin\n",
    "Neighborhood data using various Python commands. Next, we will get the geographical coordinates of the neighborhoods by using Python Geocoder library and that will give us data of the Latitude and the Longitude for the Neighborhoods. With a list of Neighborhoods and their Latitudes and Longitudes, we’ll use Foursquare API to get venue information and we’ll select the Gym category for further analysis. We’ll be using K-mean Clustering (Machine Learning Technique) to determine suitable locations for our new business as well as Folium library to locate them in the Map. The processing of data will help us identify which neighborhoods has less concentration of Gyms, therefore, indicating a suitable location to open a new one.\n"
   ]
  },
  {
   "cell_type": "markdown",
   "metadata": {},
   "source": [
    "### 1. Import libraries"
   ]
  },
  {
   "cell_type": "code",
   "execution_count": 2,
   "metadata": {},
   "outputs": [
    {
     "name": "stdout",
     "output_type": "stream",
     "text": [
      "Collecting package metadata (current_repodata.json): ...working... done\n",
      "Solving environment: ...working... done\n",
      "\n",
      "# All requested packages already installed.\n",
      "\n",
      "Requirement already satisfied: geocoder in c:\\users\\uddimoh1\\appdata\\local\\continuum\\anaconda3\\lib\\site-packages (1.38.1)\n",
      "Requirement already satisfied: six in c:\\users\\uddimoh1\\appdata\\local\\continuum\\anaconda3\\lib\\site-packages (from geocoder) (1.12.0)\n",
      "Requirement already satisfied: future in c:\\users\\uddimoh1\\appdata\\local\\continuum\\anaconda3\\lib\\site-packages (from geocoder) (0.17.1)\n",
      "Requirement already satisfied: ratelim in c:\\users\\uddimoh1\\appdata\\local\\continuum\\anaconda3\\lib\\site-packages (from geocoder) (0.1.6)\n",
      "Requirement already satisfied: click in c:\\users\\uddimoh1\\appdata\\local\\continuum\\anaconda3\\lib\\site-packages (from geocoder) (7.0)\n",
      "Requirement already satisfied: requests in c:\\users\\uddimoh1\\appdata\\local\\continuum\\anaconda3\\lib\\site-packages (from geocoder) (2.22.0)\n",
      "Requirement already satisfied: decorator in c:\\users\\uddimoh1\\appdata\\local\\continuum\\anaconda3\\lib\\site-packages (from ratelim->geocoder) (4.4.0)\n",
      "Requirement already satisfied: idna<2.9,>=2.5 in c:\\users\\uddimoh1\\appdata\\local\\continuum\\anaconda3\\lib\\site-packages (from requests->geocoder) (2.8)\n",
      "Requirement already satisfied: certifi>=2017.4.17 in c:\\users\\uddimoh1\\appdata\\local\\continuum\\anaconda3\\lib\\site-packages (from requests->geocoder) (2019.9.11)\n",
      "Requirement already satisfied: urllib3!=1.25.0,!=1.25.1,<1.26,>=1.21.1 in c:\\users\\uddimoh1\\appdata\\local\\continuum\\anaconda3\\lib\\site-packages (from requests->geocoder) (1.24.2)\n",
      "Requirement already satisfied: chardet<3.1.0,>=3.0.2 in c:\\users\\uddimoh1\\appdata\\local\\continuum\\anaconda3\\lib\\site-packages (from requests->geocoder) (3.0.4)\n"
     ]
    },
    {
     "name": "stderr",
     "output_type": "stream",
     "text": [
      "usage: conda-script.py [-h] [-V] command ...\n",
      "conda-script.py: error: unrecognized arguments: # uncomment this line if you haven't completed the Foursquare API lab\n"
     ]
    },
    {
     "name": "stdout",
     "output_type": "stream",
     "text": [
      "Requirement already satisfied: folium in c:\\users\\uddimoh1\\appdata\\local\\continuum\\anaconda3\\lib\\site-packages (0.10.1)\n",
      "Requirement already satisfied: numpy in c:\\users\\uddimoh1\\appdata\\local\\continuum\\anaconda3\\lib\\site-packages (from folium) (1.16.5)\n",
      "Requirement already satisfied: jinja2>=2.9 in c:\\users\\uddimoh1\\appdata\\local\\continuum\\anaconda3\\lib\\site-packages (from folium) (2.10.3)\n",
      "Requirement already satisfied: branca>=0.3.0 in c:\\users\\uddimoh1\\appdata\\local\\continuum\\anaconda3\\lib\\site-packages (from folium) (0.4.0)\n",
      "Requirement already satisfied: requests in c:\\users\\uddimoh1\\appdata\\local\\continuum\\anaconda3\\lib\\site-packages (from folium) (2.22.0)\n",
      "Requirement already satisfied: MarkupSafe>=0.23 in c:\\users\\uddimoh1\\appdata\\local\\continuum\\anaconda3\\lib\\site-packages (from jinja2>=2.9->folium) (1.1.1)\n",
      "Requirement already satisfied: six in c:\\users\\uddimoh1\\appdata\\local\\continuum\\anaconda3\\lib\\site-packages (from branca>=0.3.0->folium) (1.12.0)\n",
      "Requirement already satisfied: chardet<3.1.0,>=3.0.2 in c:\\users\\uddimoh1\\appdata\\local\\continuum\\anaconda3\\lib\\site-packages (from requests->folium) (3.0.4)\n",
      "Requirement already satisfied: idna<2.9,>=2.5 in c:\\users\\uddimoh1\\appdata\\local\\continuum\\anaconda3\\lib\\site-packages (from requests->folium) (2.8)\n",
      "Requirement already satisfied: certifi>=2017.4.17 in c:\\users\\uddimoh1\\appdata\\local\\continuum\\anaconda3\\lib\\site-packages (from requests->folium) (2019.9.11)\n",
      "Requirement already satisfied: urllib3!=1.25.0,!=1.25.1,<1.26,>=1.21.1 in c:\\users\\uddimoh1\\appdata\\local\\continuum\\anaconda3\\lib\\site-packages (from requests->folium) (1.24.2)\n",
      "Libraries imported.\n"
     ]
    }
   ],
   "source": [
    "import numpy as np # library to handle data in a vectorized manner\n",
    "\n",
    "import pandas as pd # library for data analsysis\n",
    "\n",
    "import json # library to handle JSON files\n",
    "\n",
    "# uncomment this line if you haven'tcompleted the Foursquare API lab\n",
    "!conda install -c conda-forge geopy --yes\n",
    "\n",
    "from geopy.geocoders import Nominatim # convert an address into latitude and longitude values\n",
    "\n",
    "import requests # library to handle requests\n",
    "\n",
    "from pandas.io.json import json_normalize # tranform JSON file into a pandas dataframe\n",
    "\n",
    "!pip install geocoder\n",
    "import geocoder\n",
    "\n",
    "# Matplotlib and associated plotting modules\n",
    "import matplotlib.cm as cm\n",
    "import matplotlib.colors as colors\n",
    "\n",
    "# import k-means from clustering stage\n",
    "from sklearn.cluster import KMeans\n",
    "!conda install -c conda-forge folium=0.5.0 --yes # uncomment this line if you haven't completed the Foursquare API lab\n",
    "!pip install folium\n",
    "import folium # map rendering library\n",
    "\n",
    "print('Libraries imported.')"
   ]
  },
  {
   "cell_type": "markdown",
   "metadata": {},
   "source": [
    "### 2. Scrap data from Wikipedia page into a DataFrame"
   ]
  },
  {
   "cell_type": "code",
   "execution_count": 3,
   "metadata": {},
   "outputs": [],
   "source": [
    "url = 'https://en.wikipedia.org/wiki/List_of_Austin_neighborhoods'"
   ]
  },
  {
   "cell_type": "code",
   "execution_count": 39,
   "metadata": {},
   "outputs": [],
   "source": [
    "df1 = pd.read_html(url, header = None)"
   ]
  },
  {
   "cell_type": "code",
   "execution_count": 67,
   "metadata": {},
   "outputs": [],
   "source": [
    "df = df1[0]\n",
    "df= df.drop(columns=['COA ID#[nb 1]'])"
   ]
  },
  {
   "cell_type": "code",
   "execution_count": 69,
   "metadata": {},
   "outputs": [
    {
     "data": {
      "text/html": [
       "<div>\n",
       "<style scoped>\n",
       "    .dataframe tbody tr th:only-of-type {\n",
       "        vertical-align: middle;\n",
       "    }\n",
       "\n",
       "    .dataframe tbody tr th {\n",
       "        vertical-align: top;\n",
       "    }\n",
       "\n",
       "    .dataframe thead th {\n",
       "        text-align: right;\n",
       "    }\n",
       "</style>\n",
       "<table border=\"1\" class=\"dataframe\">\n",
       "  <thead>\n",
       "    <tr style=\"text-align: right;\">\n",
       "      <th></th>\n",
       "      <th>Neighborhoods</th>\n",
       "    </tr>\n",
       "  </thead>\n",
       "  <tbody>\n",
       "    <tr>\n",
       "      <td>0</td>\n",
       "      <td>Bryker Woods</td>\n",
       "    </tr>\n",
       "    <tr>\n",
       "      <td>1</td>\n",
       "      <td>Caswell Heights</td>\n",
       "    </tr>\n",
       "    <tr>\n",
       "      <td>2</td>\n",
       "      <td>Downtown Austin</td>\n",
       "    </tr>\n",
       "    <tr>\n",
       "      <td>3</td>\n",
       "      <td>Eastwoods</td>\n",
       "    </tr>\n",
       "    <tr>\n",
       "      <td>4</td>\n",
       "      <td>Hancock</td>\n",
       "    </tr>\n",
       "  </tbody>\n",
       "</table>\n",
       "</div>"
      ],
      "text/plain": [
       "     Neighborhoods\n",
       "0     Bryker Woods\n",
       "1  Caswell Heights\n",
       "2  Downtown Austin\n",
       "3        Eastwoods\n",
       "4          Hancock"
      ]
     },
     "execution_count": 69,
     "metadata": {},
     "output_type": "execute_result"
    }
   ],
   "source": [
    "df_austin=df.rename(columns={'Name':'Neighborhoods'})\n",
    "df_austin.head()"
   ]
  },
  {
   "cell_type": "markdown",
   "metadata": {},
   "source": [
    "### 3. Get the geographical coordinates"
   ]
  },
  {
   "cell_type": "code",
   "execution_count": 73,
   "metadata": {},
   "outputs": [],
   "source": [
    "def get_latlng(neighborhood):\n",
    "    # initialize your variable to None\n",
    "    lat_lng_coords = None\n",
    "    # loop until you get the coordinates\n",
    "    while(lat_lng_coords is None):\n",
    "        g = geocoder.arcgis('{}, Austin, TX'.format(neighborhood))\n",
    "        lat_lng_coords = g.latlng\n",
    "    return lat_lng_coords"
   ]
  },
  {
   "cell_type": "code",
   "execution_count": 74,
   "metadata": {},
   "outputs": [],
   "source": [
    "# call the function to get the coordinates, store in a new list using list comprehension\n",
    "coords = [get_latlng(neighborhood) for neighborhood in df_austin[\"Neighborhoods\"].tolist()]"
   ]
  },
  {
   "cell_type": "code",
   "execution_count": 75,
   "metadata": {},
   "outputs": [
    {
     "data": {
      "text/plain": [
       "[[30.305015660387273, -97.75420440854235],\n",
       " [30.307883086657483, -97.71940278965468],\n",
       " [30.271220062178976, -97.75418003332545],\n",
       " [30.290490000000034, -97.73166999999995],\n",
       " [30.297150000000045, -97.72661999999997]]"
      ]
     },
     "execution_count": 75,
     "metadata": {},
     "output_type": "execute_result"
    }
   ],
   "source": [
    "coords[:5]"
   ]
  },
  {
   "cell_type": "code",
   "execution_count": 76,
   "metadata": {},
   "outputs": [
    {
     "data": {
      "text/html": [
       "<div>\n",
       "<style scoped>\n",
       "    .dataframe tbody tr th:only-of-type {\n",
       "        vertical-align: middle;\n",
       "    }\n",
       "\n",
       "    .dataframe tbody tr th {\n",
       "        vertical-align: top;\n",
       "    }\n",
       "\n",
       "    .dataframe thead th {\n",
       "        text-align: right;\n",
       "    }\n",
       "</style>\n",
       "<table border=\"1\" class=\"dataframe\">\n",
       "  <thead>\n",
       "    <tr style=\"text-align: right;\">\n",
       "      <th></th>\n",
       "      <th>Latitude</th>\n",
       "      <th>Longitude</th>\n",
       "    </tr>\n",
       "  </thead>\n",
       "  <tbody>\n",
       "    <tr>\n",
       "      <td>0</td>\n",
       "      <td>30.305016</td>\n",
       "      <td>-97.754204</td>\n",
       "    </tr>\n",
       "    <tr>\n",
       "      <td>1</td>\n",
       "      <td>30.307883</td>\n",
       "      <td>-97.719403</td>\n",
       "    </tr>\n",
       "    <tr>\n",
       "      <td>2</td>\n",
       "      <td>30.271220</td>\n",
       "      <td>-97.754180</td>\n",
       "    </tr>\n",
       "    <tr>\n",
       "      <td>3</td>\n",
       "      <td>30.290490</td>\n",
       "      <td>-97.731670</td>\n",
       "    </tr>\n",
       "    <tr>\n",
       "      <td>4</td>\n",
       "      <td>30.297150</td>\n",
       "      <td>-97.726620</td>\n",
       "    </tr>\n",
       "  </tbody>\n",
       "</table>\n",
       "</div>"
      ],
      "text/plain": [
       "    Latitude  Longitude\n",
       "0  30.305016 -97.754204\n",
       "1  30.307883 -97.719403\n",
       "2  30.271220 -97.754180\n",
       "3  30.290490 -97.731670\n",
       "4  30.297150 -97.726620"
      ]
     },
     "execution_count": 76,
     "metadata": {},
     "output_type": "execute_result"
    }
   ],
   "source": [
    "# create temporary dataframe to populate the coordinates into Latitude and Longitude\n",
    "df_coords = pd.DataFrame(coords, columns=['Latitude', 'Longitude'])\n",
    "df_coords.head()"
   ]
  },
  {
   "cell_type": "code",
   "execution_count": 77,
   "metadata": {},
   "outputs": [],
   "source": [
    "# merge the coordinates into the original dataframe\n",
    "df_austin['Latitude'] = df_coords['Latitude']\n",
    "df_austin['Longitude'] = df_coords['Longitude']"
   ]
  },
  {
   "cell_type": "code",
   "execution_count": 78,
   "metadata": {},
   "outputs": [
    {
     "data": {
      "text/html": [
       "<div>\n",
       "<style scoped>\n",
       "    .dataframe tbody tr th:only-of-type {\n",
       "        vertical-align: middle;\n",
       "    }\n",
       "\n",
       "    .dataframe tbody tr th {\n",
       "        vertical-align: top;\n",
       "    }\n",
       "\n",
       "    .dataframe thead th {\n",
       "        text-align: right;\n",
       "    }\n",
       "</style>\n",
       "<table border=\"1\" class=\"dataframe\">\n",
       "  <thead>\n",
       "    <tr style=\"text-align: right;\">\n",
       "      <th></th>\n",
       "      <th>Neighborhoods</th>\n",
       "      <th>Latitude</th>\n",
       "      <th>Longitude</th>\n",
       "    </tr>\n",
       "  </thead>\n",
       "  <tbody>\n",
       "    <tr>\n",
       "      <td>0</td>\n",
       "      <td>Bryker Woods</td>\n",
       "      <td>30.305016</td>\n",
       "      <td>-97.754204</td>\n",
       "    </tr>\n",
       "    <tr>\n",
       "      <td>1</td>\n",
       "      <td>Caswell Heights</td>\n",
       "      <td>30.307883</td>\n",
       "      <td>-97.719403</td>\n",
       "    </tr>\n",
       "    <tr>\n",
       "      <td>2</td>\n",
       "      <td>Downtown Austin</td>\n",
       "      <td>30.271220</td>\n",
       "      <td>-97.754180</td>\n",
       "    </tr>\n",
       "    <tr>\n",
       "      <td>3</td>\n",
       "      <td>Eastwoods</td>\n",
       "      <td>30.290490</td>\n",
       "      <td>-97.731670</td>\n",
       "    </tr>\n",
       "    <tr>\n",
       "      <td>4</td>\n",
       "      <td>Hancock</td>\n",
       "      <td>30.297150</td>\n",
       "      <td>-97.726620</td>\n",
       "    </tr>\n",
       "  </tbody>\n",
       "</table>\n",
       "</div>"
      ],
      "text/plain": [
       "     Neighborhoods   Latitude  Longitude\n",
       "0     Bryker Woods  30.305016 -97.754204\n",
       "1  Caswell Heights  30.307883 -97.719403\n",
       "2  Downtown Austin  30.271220 -97.754180\n",
       "3        Eastwoods  30.290490 -97.731670\n",
       "4          Hancock  30.297150 -97.726620"
      ]
     },
     "execution_count": 78,
     "metadata": {},
     "output_type": "execute_result"
    }
   ],
   "source": [
    "df_austin.head()"
   ]
  },
  {
   "cell_type": "code",
   "execution_count": 79,
   "metadata": {},
   "outputs": [
    {
     "data": {
      "text/plain": [
       "(22, 3)"
      ]
     },
     "execution_count": 79,
     "metadata": {},
     "output_type": "execute_result"
    }
   ],
   "source": [
    "df_austin.shape"
   ]
  },
  {
   "cell_type": "code",
   "execution_count": 80,
   "metadata": {},
   "outputs": [],
   "source": [
    "# save the DataFrame as CSV file\n",
    "df_austin.to_csv(\"df_austin.csv\", index=False)"
   ]
  },
  {
   "cell_type": "markdown",
   "metadata": {},
   "source": [
    "### 4. Create a map of Chicago with neighborhoods superimposed on top"
   ]
  },
  {
   "cell_type": "code",
   "execution_count": 81,
   "metadata": {},
   "outputs": [
    {
     "name": "stdout",
     "output_type": "stream",
     "text": [
      "The geograpical coordinate of Austin are 30.2711286, -97.7436995.\n"
     ]
    }
   ],
   "source": [
    "address = 'Austin, TX, USA'\n",
    "geolocator = Nominatim(user_agent=\"austin_explorer\")\n",
    "location = geolocator.geocode(address)\n",
    "latitude = location.latitude\n",
    "longitude = location.longitude\n",
    "print('The geograpical coordinate of Austin are {}, {}.'.format(latitude, longitude))"
   ]
  },
  {
   "cell_type": "code",
   "execution_count": 83,
   "metadata": {},
   "outputs": [
    {
     "data": {
      "text/html": [
       "<div style=\"width:100%;\"><div style=\"position:relative;width:100%;height:0;padding-bottom:60%;\"><iframe src=\"about:blank\" style=\"position:absolute;width:100%;height:100%;left:0;top:0;border:none !important;\" data-html=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 onload=\"this.contentDocument.open();this.contentDocument.write(atob(this.getAttribute('data-html')));this.contentDocument.close();\" allowfullscreen webkitallowfullscreen mozallowfullscreen></iframe></div></div>"
      ],
      "text/plain": [
       "<folium.folium.Map at 0x193041a1a48>"
      ]
     },
     "execution_count": 83,
     "metadata": {},
     "output_type": "execute_result"
    }
   ],
   "source": [
    "map_austin = folium.Map(location=[latitude, longitude], zoom_start=11)\n",
    "# add markers to map\n",
    "for lat, lng, label in zip(df_austin['Latitude'], df_austin['Longitude'], df_austin['Neighborhoods']):\n",
    "    label = folium.Popup(label, parse_html=True)\n",
    "    folium.CircleMarker(\n",
    "    [lat, lng],\n",
    "    radius=5,\n",
    "    popup=label,\n",
    "    color='green',\n",
    "    fill=True,\n",
    "    fill_color='#3186cc',\n",
    "    fill_opacity=0.7).add_to(map_austin) \n",
    "    \n",
    "map_austin"
   ]
  },
  {
   "cell_type": "markdown",
   "metadata": {},
   "source": [
    "### 5. Use the Foursquare API to explore the neighborhoods"
   ]
  },
  {
   "cell_type": "code",
   "execution_count": 84,
   "metadata": {},
   "outputs": [
    {
     "name": "stdout",
     "output_type": "stream",
     "text": [
      "Your credentails:\n",
      "CLIENT_ID: HIDWTSRI3RZT13JAIDYJVWNSVFGYLSKM4PUK5OZZLT2MBTNM\n",
      "CLIENT_SECRET:YTXYRGQIRIBKKCOT4MTWPPIKFR1DMYU5OTKYYT2PADSRWAYX\n"
     ]
    }
   ],
   "source": [
    "CLIENT_ID = 'HIDWTSRI3RZT13JAIDYJVWNSVFGYLSKM4PUK5OZZLT2MBTNM' # your Foursquare ID\n",
    "CLIENT_SECRET = 'YTXYRGQIRIBKKCOT4MTWPPIKFR1DMYU5OTKYYT2PADSRWAYX' # your Four square Secret\n",
    "VERSION = '20180605' # Foursquare API version\n",
    "print('Your credentails:')\n",
    "print('CLIENT_ID: ' + CLIENT_ID)\n",
    "print('CLIENT_SECRET:' + CLIENT_SECRET)"
   ]
  },
  {
   "cell_type": "code",
   "execution_count": 85,
   "metadata": {},
   "outputs": [],
   "source": [
    "# save the map as HTML file\n",
    "map_chicago.save('map_austin.html')"
   ]
  },
  {
   "cell_type": "markdown",
   "metadata": {},
   "source": [
    "#### Now, let's get the top 100 venues that are within a radius of 2000 meters."
   ]
  },
  {
   "cell_type": "code",
   "execution_count": 86,
   "metadata": {},
   "outputs": [],
   "source": [
    "radius = 2000\n",
    "LIMIT = 100\n",
    "\n",
    "venues = []\n",
    "\n",
    "for lat, long, neighborhood in zip(df_austin['Latitude'], df_austin['Longitude'], df_austin['Neighborhoods']):\n",
    "    \n",
    "    # create the API request URL\n",
    "    url = \"https://api.foursquare.com/v2/venues/explore?client_id={}&client_secret={}&v={}&ll={},{}&radius={}&limit={}\".format(\n",
    "        CLIENT_ID,\n",
    "        CLIENT_SECRET,\n",
    "        VERSION,\n",
    "        lat,\n",
    "        long,\n",
    "        radius, \n",
    "        LIMIT)\n",
    "    \n",
    "    # make the GET request\n",
    "    results = requests.get(url).json()[\"response\"]['groups'][0]['items']\n",
    "    \n",
    "    # return only relevant information for each nearby venue\n",
    "    for venue in results:\n",
    "        venues.append((\n",
    "            neighborhood,\n",
    "            lat, \n",
    "            long, \n",
    "            venue['venue']['name'], \n",
    "            venue['venue']['location']['lat'], \n",
    "            venue['venue']['location']['lng'],  \n",
    "            venue['venue']['categories'][0]['name']))"
   ]
  },
  {
   "cell_type": "code",
   "execution_count": 87,
   "metadata": {},
   "outputs": [
    {
     "name": "stdout",
     "output_type": "stream",
     "text": [
      "(1865, 7)\n"
     ]
    },
    {
     "data": {
      "text/html": [
       "<div>\n",
       "<style scoped>\n",
       "    .dataframe tbody tr th:only-of-type {\n",
       "        vertical-align: middle;\n",
       "    }\n",
       "\n",
       "    .dataframe tbody tr th {\n",
       "        vertical-align: top;\n",
       "    }\n",
       "\n",
       "    .dataframe thead th {\n",
       "        text-align: right;\n",
       "    }\n",
       "</style>\n",
       "<table border=\"1\" class=\"dataframe\">\n",
       "  <thead>\n",
       "    <tr style=\"text-align: right;\">\n",
       "      <th></th>\n",
       "      <th>Neighborhood</th>\n",
       "      <th>Latitude</th>\n",
       "      <th>Longitude</th>\n",
       "      <th>VenueName</th>\n",
       "      <th>VenueLatitude</th>\n",
       "      <th>VenueLongitude</th>\n",
       "      <th>VenueCategory</th>\n",
       "    </tr>\n",
       "  </thead>\n",
       "  <tbody>\n",
       "    <tr>\n",
       "      <td>0</td>\n",
       "      <td>Bryker Woods</td>\n",
       "      <td>30.305016</td>\n",
       "      <td>-97.754204</td>\n",
       "      <td>Kerbey Lane Café</td>\n",
       "      <td>30.308030</td>\n",
       "      <td>-97.750470</td>\n",
       "      <td>Café</td>\n",
       "    </tr>\n",
       "    <tr>\n",
       "      <td>1</td>\n",
       "      <td>Bryker Woods</td>\n",
       "      <td>30.305016</td>\n",
       "      <td>-97.754204</td>\n",
       "      <td>Tiny Boxwoods</td>\n",
       "      <td>30.306058</td>\n",
       "      <td>-97.749789</td>\n",
       "      <td>American Restaurant</td>\n",
       "    </tr>\n",
       "    <tr>\n",
       "      <td>2</td>\n",
       "      <td>Bryker Woods</td>\n",
       "      <td>30.305016</td>\n",
       "      <td>-97.754204</td>\n",
       "      <td>Anderson's Coffee Co</td>\n",
       "      <td>30.308382</td>\n",
       "      <td>-97.750355</td>\n",
       "      <td>Coffee Shop</td>\n",
       "    </tr>\n",
       "    <tr>\n",
       "      <td>3</td>\n",
       "      <td>Bryker Woods</td>\n",
       "      <td>30.305016</td>\n",
       "      <td>-97.754204</td>\n",
       "      <td>Austin Flower Company</td>\n",
       "      <td>30.307787</td>\n",
       "      <td>-97.751224</td>\n",
       "      <td>Flower Shop</td>\n",
       "    </tr>\n",
       "    <tr>\n",
       "      <td>4</td>\n",
       "      <td>Bryker Woods</td>\n",
       "      <td>30.305016</td>\n",
       "      <td>-97.754204</td>\n",
       "      <td>Olive &amp; June</td>\n",
       "      <td>30.307450</td>\n",
       "      <td>-97.751046</td>\n",
       "      <td>Italian Restaurant</td>\n",
       "    </tr>\n",
       "  </tbody>\n",
       "</table>\n",
       "</div>"
      ],
      "text/plain": [
       "   Neighborhood   Latitude  Longitude              VenueName  VenueLatitude  \\\n",
       "0  Bryker Woods  30.305016 -97.754204       Kerbey Lane Café      30.308030   \n",
       "1  Bryker Woods  30.305016 -97.754204          Tiny Boxwoods      30.306058   \n",
       "2  Bryker Woods  30.305016 -97.754204   Anderson's Coffee Co      30.308382   \n",
       "3  Bryker Woods  30.305016 -97.754204  Austin Flower Company      30.307787   \n",
       "4  Bryker Woods  30.305016 -97.754204           Olive & June      30.307450   \n",
       "\n",
       "   VenueLongitude        VenueCategory  \n",
       "0      -97.750470                 Café  \n",
       "1      -97.749789  American Restaurant  \n",
       "2      -97.750355          Coffee Shop  \n",
       "3      -97.751224          Flower Shop  \n",
       "4      -97.751046   Italian Restaurant  "
      ]
     },
     "execution_count": 87,
     "metadata": {},
     "output_type": "execute_result"
    }
   ],
   "source": [
    "# convert the venues list into a new DataFrame\n",
    "venues_df = pd.DataFrame(venues)\n",
    "# venues_df.head()\n",
    "# define the column names\n",
    "venues_df.columns = ['Neighborhood', 'Latitude', 'Longitude', 'VenueName', 'VenueLatitude', 'VenueLongitude', 'VenueCategory']\n",
    "\n",
    "print(venues_df.shape)\n",
    "venues_df.head()"
   ]
  },
  {
   "cell_type": "markdown",
   "metadata": {},
   "source": [
    "### End of Week 1"
   ]
  },
  {
   "cell_type": "markdown",
   "metadata": {},
   "source": [
    "### Methodology and Analyses"
   ]
  },
  {
   "cell_type": "code",
   "execution_count": null,
   "metadata": {},
   "outputs": [],
   "source": []
  }
 ],
 "metadata": {
  "kernelspec": {
   "display_name": "Python 3",
   "language": "python",
   "name": "python3"
  },
  "language_info": {
   "codemirror_mode": {
    "name": "ipython",
    "version": 3
   },
   "file_extension": ".py",
   "mimetype": "text/x-python",
   "name": "python",
   "nbconvert_exporter": "python",
   "pygments_lexer": "ipython3",
   "version": "3.7.4"
  }
 },
 "nbformat": 4,
 "nbformat_minor": 2
}
